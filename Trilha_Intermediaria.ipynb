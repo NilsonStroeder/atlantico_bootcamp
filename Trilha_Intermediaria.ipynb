{
  "nbformat": 4,
  "nbformat_minor": 0,
  "metadata": {
    "colab": {
      "provenance": [],
      "collapsed_sections": [],
      "mount_file_id": "1poEz9vXSasfPkOJ7dX1LHjnZxh_hRG0Y",
      "authorship_tag": "ABX9TyPEJsv4D1a0MFEBvhw6XM/Y",
      "include_colab_link": true
    },
    "kernelspec": {
      "name": "python3",
      "display_name": "Python 3"
    },
    "language_info": {
      "name": "python"
    }
  },
  "cells": [
    {
      "cell_type": "markdown",
      "metadata": {
        "id": "view-in-github",
        "colab_type": "text"
      },
      "source": [
        "<a href=\"https://colab.research.google.com/github/NilsonStroeder/atlantico_bootcamp/blob/main/Trilha_Intermediaria.ipynb\" target=\"_parent\"><img src=\"https://colab.research.google.com/assets/colab-badge.svg\" alt=\"Open In Colab\"/></a>"
      ]
    },
    {
      "cell_type": "markdown",
      "source": [
        "# Módulos Necessários"
      ],
      "metadata": {
        "id": "3gLoa8J3SAto"
      }
    },
    {
      "cell_type": "code",
      "source": [
        "import os\n",
        "import cv2\n",
        "import matplotlib.pyplot as plt\n",
        "import numpy as np\n",
        "import pandas as pd\n",
        "from random import shuffle\n",
        "from sklearn.model_selection import train_test_split\n",
        "from sklearn import metrics,svm\n",
        "from sklearn.metrics import classification_report\n",
        "from sklearn.ensemble import RandomForestClassifier\n",
        "from sklearn.neural_network import MLPClassifier\n",
        "from sklearn.neighbors import KNeighborsClassifier\n",
        "from sklearn.linear_model import SGDClassifier\n",
        "from sklearn.naive_bayes import GaussianNB\n",
        "from sklearn import tree\n",
        "from skimage.measure import regionprops\n",
        "from skimage.filters import threshold_otsu\n",
        "from sklearn.preprocessing import MaxAbsScaler"
      ],
      "metadata": {
        "id": "lZb3691uRTiU"
      },
      "execution_count": 30,
      "outputs": []
    },
    {
      "cell_type": "markdown",
      "source": [
        "# Preparando o Data Set"
      ],
      "metadata": {
        "id": "UQCb1iw7SHZg"
      }
    },
    {
      "cell_type": "code",
      "source": [
        "def load_data(datadir, classes, img_size=100):\n",
        "    training_data = []\n",
        "    label = []\n",
        "    for classe in range(len(classes)):\n",
        "        path = os.path.join(datadir, classes[classe])\n",
        "        shufled_list  = list(os.listdir(path))\n",
        "        shuffle(shufled_list)\n",
        "        for img in shufled_list:\n",
        "            img_array = cv2.imread(os.path.join(path, img), cv2.IMREAD_GRAYSCALE)\n",
        "            img_array = cv2.resize(img_array, (img_size, img_size))\n",
        "            unique = np.unique(img_array)\n",
        "            if len(unique) == 1:\n",
        "                continue\n",
        "            training_data.append(img_array)\n",
        "            label.append(classe)\n",
        "    return training_data , label\n",
        "\n",
        "geometric = '/content/drive/MyDrive/Colab Notebooks/dataset (1)/dataset/geometric/'"
      ],
      "metadata": {
        "id": "yEpYV_LUSDRg"
      },
      "execution_count": 31,
      "outputs": []
    },
    {
      "cell_type": "code",
      "source": [
        "data , label = load_data(geometric,['circle','square','star','triangle'])"
      ],
      "metadata": {
        "id": "ojYUn6Z_Slj8"
      },
      "execution_count": 32,
      "outputs": []
    },
    {
      "cell_type": "markdown",
      "source": [
        "# Extração de atributos"
      ],
      "metadata": {
        "id": "gmGNF33wCoCD"
      }
    },
    {
      "cell_type": "code",
      "source": [
        "def get_contours_param(contour):\n",
        "    contour_area = contour[0].filled_area\n",
        "    contour_perimeter = contour[0].perimeter\n",
        "    contour_convex_area = contour[0].convex_area\n",
        "    diameter = contour[0].equivalent_diameter\n",
        "    return contour_area , contour_perimeter, contour_convex_area, diameter"
      ],
      "metadata": {
        "id": "ajsB0MHQCljz"
      },
      "execution_count": 33,
      "outputs": []
    },
    {
      "cell_type": "code",
      "source": [
        "def features_extraction(images):\n",
        "    features_list = []\n",
        "    for image in images:\n",
        "        thresh = threshold_otsu(image)\n",
        "        binary = np.array(image > thresh).astype(int)\n",
        "        white_pixel = np.where(binary > 0)\n",
        "        if len(white_pixel[0]) > 7000:\n",
        "            binary = abs(1-binary) # ajuste de imagens negativas\n",
        "        regions = regionprops(binary)\n",
        "        contour_area , contour_perimeter, contour_convex_area, diameter = get_contours_param(regions)\n",
        "        features_list.append([contour_area , contour_perimeter, contour_convex_area, diameter])\n",
        "    norm =  MaxAbsScaler()\n",
        "    norm.fit(features_list)\n",
        "    norm_features = norm.transform(features_list)\n",
        "    return norm_features"
      ],
      "metadata": {
        "id": "UEKTS5kuC2GL"
      },
      "execution_count": 34,
      "outputs": []
    },
    {
      "cell_type": "code",
      "source": [
        "features = features_extraction(data)"
      ],
      "metadata": {
        "id": "-gLgOR7OC7n8"
      },
      "execution_count": 35,
      "outputs": []
    },
    {
      "cell_type": "markdown",
      "source": [
        "# Treinamento e Teste dos Classificadores"
      ],
      "metadata": {
        "id": "HZdksl3iBAQx"
      }
    },
    {
      "cell_type": "code",
      "source": [
        "def generate_svm_model(train_data,label_train_data,test_data):\n",
        "    clf = svm.SVC(kernel='linear')\n",
        "    clf.fit(train_data, label_train_data)\n",
        "    predicted = clf.predict(test_data)\n",
        "    return predicted\n",
        "def generate_SGDC_model(train_data,label_train_data,test_data):\n",
        "    clf = SGDClassifier(loss=\"hinge\", penalty=\"l2\", max_iter=200)\n",
        "    clf.fit(train_data, label_train_data)\n",
        "    predicted = clf.predict(test_data)\n",
        "    return predicted\n",
        "def generate_naive_bayes_model(train_data,label_train_data,test_data):\n",
        "    gnb = GaussianNB()\n",
        "    gnb.fit(train_data, label_train_data)\n",
        "    predicted = gnb.predict(test_data)\n",
        "    return predicted\n",
        "def generate_decision_tree_model(train_data,label_train_data,test_data):\n",
        "    clf = tree.DecisionTreeClassifier()\n",
        "    clf = clf.fit(train_data, label_train_data)\n",
        "    predicted = clf.predict(test_data)\n",
        "    return predicted\n",
        "def generate_random_forest_model(X_train, y_train,test_data):\n",
        "    rfc = RandomForestClassifier(criterion= 'entropy', max_depth= 8, max_features='auto', n_estimators=200)\n",
        "    rfc.fit(X_train,y_train)\n",
        "    predicted = rfc.predict(test_data)\n",
        "    return predicted\n",
        "def generate_MLP_model(X_train, y_train,test_data):\n",
        "    classifier = MLPClassifier(hidden_layer_sizes=(100,100,100), max_iter=300,activation = 'relu',solver='adam',random_state=1)\n",
        "    classifier.fit(X_train, y_train)\n",
        "    predicted = classifier.predict(test_data)\n",
        "    return predicted\n",
        "def generate_knn_model(train_data,label_train_data,test_data):\n",
        "    knn = KNeighborsClassifier()\n",
        "    knn.fit(train_data,label_train_data)\n",
        "    predicted = knn.predict(test_data)\n",
        "    return predicted"
      ],
      "metadata": {
        "id": "W5MpqYjrDS_l"
      },
      "execution_count": 36,
      "outputs": []
    },
    {
      "cell_type": "code",
      "source": [
        "def gen_classifiers(train_data,label_train_data,test_data):\n",
        "    return generate_knn_model(train_data,label_train_data,test_data),\\\n",
        "    generate_MLP_model(train_data,label_train_data,test_data),\\\n",
        "    generate_SGDC_model(train_data,label_train_data,test_data),\\\n",
        "    generate_svm_model(train_data,label_train_data,test_data),\\\n",
        "    generate_decision_tree_model(train_data,label_train_data,test_data),\\\n",
        "    generate_naive_bayes_model(train_data,label_train_data,test_data),\\\n",
        "    generate_random_forest_model(train_data,label_train_data,test_data),"
      ],
      "metadata": {
        "id": "SfZa4i74DZz0"
      },
      "execution_count": 37,
      "outputs": []
    },
    {
      "cell_type": "code",
      "source": [
        "X_train,X_test,y_train,y_test = train_test_split(features,label,test_size=0.3)\n",
        "results = gen_classifiers(X_train, y_train,X_test)"
      ],
      "metadata": {
        "id": "4vjpU2VGDa40"
      },
      "execution_count": 38,
      "outputs": []
    },
    {
      "cell_type": "markdown",
      "source": [
        "# Avaliação dos Classificadores"
      ],
      "metadata": {
        "id": "7isxCo1eDhBl"
      }
    },
    {
      "cell_type": "code",
      "source": [
        "acc = metrics.accuracy_score(y_test,results[0])\n",
        "acc"
      ],
      "metadata": {
        "colab": {
          "base_uri": "https://localhost:8080/"
        },
        "id": "Oo6gnX-1DlRt",
        "outputId": "cf20a298-6a59-435a-e0a9-e339d0d095b1"
      },
      "execution_count": 39,
      "outputs": [
        {
          "output_type": "execute_result",
          "data": {
            "text/plain": [
              "0.9744525547445255"
            ]
          },
          "metadata": {},
          "execution_count": 39
        }
      ]
    },
    {
      "cell_type": "code",
      "source": [
        "recall = metrics.recall_score(y_test,results[0],average=None)\n",
        "recall"
      ],
      "metadata": {
        "colab": {
          "base_uri": "https://localhost:8080/"
        },
        "id": "AXHiwyXgDwUH",
        "outputId": "baa1a3f2-cdbe-456e-92d4-74a610aabe92"
      },
      "execution_count": 40,
      "outputs": [
        {
          "output_type": "execute_result",
          "data": {
            "text/plain": [
              "array([0.96721311, 0.90909091, 1.        , 1.        ])"
            ]
          },
          "metadata": {},
          "execution_count": 40
        }
      ]
    },
    {
      "cell_type": "code",
      "source": [
        "precision = metrics.precision_score(y_test,results[0],average=None)\n",
        "precision"
      ],
      "metadata": {
        "colab": {
          "base_uri": "https://localhost:8080/"
        },
        "id": "WkJ2OtEkD0Tu",
        "outputId": "507aa58e-1ce3-4f0b-f705-3de7827e9e96"
      },
      "execution_count": 41,
      "outputs": [
        {
          "output_type": "execute_result",
          "data": {
            "text/plain": [
              "array([0.96721311, 0.96153846, 1.        , 0.96428571])"
            ]
          },
          "metadata": {},
          "execution_count": 41
        }
      ]
    }
  ]
}